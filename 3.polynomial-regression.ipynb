{
 "cells": [
  {
   "cell_type": "markdown",
   "metadata": {},
   "source": [
    "---\n",
    "# **Polynomial Regression**\n",
    "---"
   ]
  },
  {
   "cell_type": "markdown",
   "metadata": {},
   "source": [
    "### **Introduction**\n",
    "This notebook provides a comprehensive guide to understanding and implementing Polynomial regression. We'll cover the underlying concepts, step-by-step code, and practical examples to help you master this powerful statistical technique.\n",
    "\n",
    "### **Objectives**\n",
    "By the end of this notebook, you will be able to:\n",
    "* Understand the concept of polynomial regression.\n",
    "* Implement polynomial regression using Python and scikit-learn.\n",
    "* Interpret the results of a polynomial regression model.\n",
    "* Evaluate the performance of a polynomial regression model.\n",
    "* Apply polynomial regression to real-world problems."
   ]
  },
  {
   "cell_type": "markdown",
   "metadata": {},
   "source": [
    "## **Conceptual Overview**"
   ]
  },
  {
   "cell_type": "markdown",
   "metadata": {},
   "source": [
    "Like simple and multiple regression, Polynomial regression is a **supervised** and **regression** algorithm. Let's break down what that means:\n",
    "\n",
    "* **Supervised:** This means we use labeled data to train the model. In other words, we have input features and corresponding output values.\n",
    "* **Regression:** This means we are trying to predict a numerical value, as opposed to a class or category.\n",
    "\n",
    "However, polynomial regression differs from simple linear regression in that it allows us to fit curved lines/planes to our data. This is accomplished by \"exponentiating\" our variables by taking them to powers greater than 1.\n",
    "\n",
    "The polynomial regression equation is:\n",
    "\n",
    "$$y = b_0 + b_1x + b_2x^2 + b_3x^3 + ... + b_nx^n$$\n",
    "\n",
    "where:\n",
    "* **y** is the dependent variable (the value we want to predict)\n",
    "* **x** is the independent variable\n",
    "* **b₀** is the y-intercept\n",
    "* **b₁, b₂, ..., bₙ** are the coefficients\n",
    "* **n** is the degree of the polynomial\n",
    "\n",
    "This makes polynomial regression a fantastic modeling tool for exponential datasets. In practice, we just need to select the \"degree\" of the polynomial, and our statistical software handles the rest.\n",
    "\n",
    "> #### **Check for Understanding:**\n",
    "> * What is the difference between linear and polynomial regression?\n",
    "> * How does increasing the polynomial degree affect the model?\n",
    "> * What are the risks of using a very high polynomial degree?"
   ]
  },
  {
   "cell_type": "markdown",
   "metadata": {},
   "source": [
    "---\n",
    "# **Setup**\n",
    "---\n",
    "In this section, we will implement simple linear regression using Python. We will use the following libraries:\n",
    "\n",
    "*   **NumPy:** For numerical computations.\n",
    "*   **Pandas:** For data manipulation and analysis.\n",
    "*   **Matplotlib and seaborn:** For data visualization.\n",
    "*   **Scikit-learn:** For building and evaluating the linear regression model.\n",
    "\n",
    "> Let's start by importing these libraries."
   ]
  },
  {
   "cell_type": "code",
   "execution_count": 15,
   "metadata": {},
   "outputs": [],
   "source": [
    "import numpy as np              # For numerical computations\n",
    "import pandas as pd             # For data manipulation and analysis\n",
    "import matplotlib.pyplot as plt # For data visualization\n",
    "import seaborn as sns           # For enhanced data visualization\n",
    "\n",
    "from sklearn.model_selection import train_test_split        # For splitting the data into training and testing sets\n",
    "from sklearn.preprocessing import PolynomialFeatures        # For polynomial feature transformation\n",
    "from sklearn.linear_model import LinearRegression           # For building the linear regression model\n",
    "from sklearn.metrics import r2_score                        # For evaluating the model"
   ]
  },
  {
   "cell_type": "markdown",
   "metadata": {},
   "source": [
    "---\n",
    "# **Reading and Preparing the Data for Modeling**\n",
    "---"
   ]
  },
  {
   "cell_type": "markdown",
   "metadata": {},
   "source": [
    "## 1. Load Dataset to workspace\n",
    "We will use the `Position_Salaries.csv` dataset, which contains information about position levels and corresponding salaries. Let's load the data and take a look at it."
   ]
  },
  {
   "cell_type": "code",
   "execution_count": 16,
   "metadata": {},
   "outputs": [
    {
     "name": "stdout",
     "output_type": "stream",
     "text": [
      "   Level  Salary\n",
      "0      1   45000\n",
      "1      2   50000\n",
      "2      3   60000\n",
      "3      4   80000\n",
      "4      5  110000\n",
      "(10, 2)\n"
     ]
    }
   ],
   "source": [
    "dataset = pd.read_csv('Position_Salaries.csv')\n",
    "\n",
    "print(dataset.head())\n",
    "print(dataset.shape)"
   ]
  },
  {
   "cell_type": "code",
   "execution_count": 17,
   "metadata": {},
   "outputs": [
    {
     "name": "stdout",
     "output_type": "stream",
     "text": [
      "          Level          Salary\n",
      "count  10.00000       10.000000\n",
      "mean    5.50000   249500.000000\n",
      "std     3.02765   299373.883668\n",
      "min     1.00000    45000.000000\n",
      "25%     3.25000    65000.000000\n",
      "50%     5.50000   130000.000000\n",
      "75%     7.75000   275000.000000\n",
      "max    10.00000  1000000.000000\n"
     ]
    }
   ],
   "source": [
    "print(dataset.describe())"
   ]
  },
  {
   "cell_type": "markdown",
   "metadata": {},
   "source": [
    "## 2. Separating the independent and dependent variables\n",
    "To keep this conceptually simple and avoid abstraction, we are using a very small dataset here.  \n",
    "* **X (Independent Variable):** Position Level\n",
    "* **y (Dependent Variable):** Salary"
   ]
  },
  {
   "cell_type": "code",
   "execution_count": 18,
   "metadata": {},
   "outputs": [],
   "source": [
    "X = dataset.iloc[:, :-1].values   # Independent variable (Position Level)\n",
    "y = dataset.iloc[:, -1].values    # Dependent variable (Salary)"
   ]
  },
  {
   "cell_type": "markdown",
   "metadata": {},
   "source": [
    "## 3. Creating polynomial features\n",
    "\n",
    "Now we'll transform our features into polynomial features. We'll use a polynomial of degree 4, which has shown good results for this dataset."
   ]
  },
  {
   "cell_type": "code",
   "execution_count": 19,
   "metadata": {},
   "outputs": [
    {
     "data": {
      "text/plain": [
       "array([[   1.,    1.,    1.,    1.],\n",
       "       [   1.,    2.,    4.,    8.],\n",
       "       [   1.,    3.,    9.,   27.],\n",
       "       [   1.,    4.,   16.,   64.],\n",
       "       [   1.,    5.,   25.,  125.],\n",
       "       [   1.,    6.,   36.,  216.],\n",
       "       [   1.,    7.,   49.,  343.],\n",
       "       [   1.,    8.,   64.,  512.],\n",
       "       [   1.,    9.,   81.,  729.],\n",
       "       [   1.,   10.,  100., 1000.]])"
      ]
     },
     "execution_count": 19,
     "metadata": {},
     "output_type": "execute_result"
    }
   ],
   "source": [
    "poly = PolynomialFeatures(degree=3)\n",
    "X_poly = poly.fit_transform(X)\n",
    "X_poly"
   ]
  },
  {
   "cell_type": "code",
   "execution_count": 20,
   "metadata": {},
   "outputs": [
    {
     "data": {
      "text/plain": [
       "array(['1', 'x0', 'x0^2', 'x0^3'], dtype=object)"
      ]
     },
     "execution_count": 20,
     "metadata": {},
     "output_type": "execute_result"
    }
   ],
   "source": [
    "poly.get_feature_names_out()"
   ]
  },
  {
   "cell_type": "markdown",
   "metadata": {},
   "source": [
    "---\n",
    "# **Modeling**\n",
    "---"
   ]
  },
  {
   "cell_type": "markdown",
   "metadata": {},
   "source": [
    "## 1. Building and training a linear regression model"
   ]
  },
  {
   "cell_type": "code",
   "execution_count": 21,
   "metadata": {},
   "outputs": [
    {
     "name": "stdout",
     "output_type": "stream",
     "text": [
      "Intercept: -195333.33333333337\n",
      "Coefficients: [80878.78787879]\n"
     ]
    }
   ],
   "source": [
    "lin_reg = LinearRegression()\n",
    "lin_reg.fit(X, y)\n",
    "\n",
    "print(\"Intercept:\", lin_reg.intercept_)\n",
    "print(\"Coefficients:\", lin_reg.coef_)"
   ]
  },
  {
   "cell_type": "markdown",
   "metadata": {},
   "source": [
    "## 2. Building and training a polynomial regression model"
   ]
  },
  {
   "cell_type": "code",
   "execution_count": 22,
   "metadata": {},
   "outputs": [
    {
     "name": "stdout",
     "output_type": "stream",
     "text": [
      "Intercept: -121333.33333330264\n",
      "Coefficients: [     0.         180664.33566432 -48548.95104895   4120.04662005]\n"
     ]
    }
   ],
   "source": [
    "poly_reg = LinearRegression()\n",
    "poly_reg.fit(X_poly, y)\n",
    "\n",
    "print(\"Intercept:\", poly_reg.intercept_)\n",
    "print(\"Coefficients:\", poly_reg.coef_)"
   ]
  },
  {
   "cell_type": "markdown",
   "metadata": {},
   "source": [
    "---\n",
    "# **Evaluation (Check Performance)**\n",
    "---"
   ]
  },
  {
   "cell_type": "markdown",
   "metadata": {},
   "source": [
    "## Evaluating the Linear Model\n",
    "With the linear model, we can now use it for generating predictions. We will use our test set so we can see how well it did."
   ]
  },
  {
   "cell_type": "code",
   "execution_count": 23,
   "metadata": {},
   "outputs": [
    {
     "data": {
      "text/plain": [
       "array([-114454.54545455,  -33575.75757576,   47303.03030303,\n",
       "        128181.81818182,  209060.60606061,  289939.39393939,\n",
       "        370818.18181818,  451696.96969697,  532575.75757576,\n",
       "        613454.54545455])"
      ]
     },
     "execution_count": 23,
     "metadata": {},
     "output_type": "execute_result"
    }
   ],
   "source": [
    "linear_y_preds = lin_reg.predict(X)\n",
    "linear_y_preds"
   ]
  },
  {
   "cell_type": "markdown",
   "metadata": {},
   "source": [
    "## Evaluating the Polynomial Model\n",
    "With the polynomial model, we can now use it for generating predictions. We will use our test set so we can see how well it did."
   ]
  },
  {
   "cell_type": "code",
   "execution_count": 24,
   "metadata": {},
   "outputs": [
    {
     "data": {
      "text/plain": [
       "array([ 14902.09790211,  78759.90675991,  94960.37296037,  88223.77622378,\n",
       "        83270.3962704 , 104820.51282052, 177594.40559441, 326312.35431236,\n",
       "       575694.63869463, 950461.53846152])"
      ]
     },
     "execution_count": 24,
     "metadata": {},
     "output_type": "execute_result"
    }
   ],
   "source": [
    "X_poly = poly.transform(X)\n",
    "poly_y_preds = poly_reg.predict(X_poly)\n",
    "poly_y_preds"
   ]
  },
  {
   "cell_type": "markdown",
   "metadata": {},
   "source": [
    "## Visualizing Linear vs Polynomial Regression"
   ]
  },
  {
   "cell_type": "code",
   "execution_count": 25,
   "metadata": {},
   "outputs": [
    {
     "data": {
      "image/png": "[encoded data removed]",
      "text/plain": [
       "<Figure size 640x480 with 1 Axes>"
      ]
     },
     "metadata": {},
     "output_type": "display_data"
    }
   ],
   "source": [
    "# Visualizing the Results of Linear Regression vs Polynomial Regression\n",
    "plt.scatter(X, y, color='k', label='Actual Data')\n",
    "\n",
    "plt.plot(X, poly_y_preds, color='green', label='Polynomial Regression')\n",
    "plt.plot(X, linear_y_preds, color='red', label='Linear Regression')\n",
    "\n",
    "plt.title('Salary vs Position Level')\n",
    "plt.xlabel('Position Level')\n",
    "plt.ylabel('Salary')\n",
    "plt.legend()\n",
    "plt.show()"
   ]
  },
  {
   "cell_type": "markdown",
   "metadata": {},
   "source": [
    "---\n",
    "# **Inference**\n",
    "---\n",
    "\n",
    "Let's predict the salary for a position level of 7.5 (between Partner and Senior Partner)"
   ]
  },
  {
   "cell_type": "code",
   "execution_count": 26,
   "metadata": {},
   "outputs": [
    {
     "name": "stdout",
     "output_type": "stream",
     "text": [
      "Estimated Salary for position level 7.5: $240,915\n"
     ]
    }
   ],
   "source": [
    "sample = [[7.5]]\n",
    "poly_sample = poly.fit_transform(sample)\n",
    "\n",
    "salary = int(poly_reg.predict(poly_sample)[0])\n",
    "print(f\"Estimated Salary for position level 7.5: ${salary:,}\")"
   ]
  },
  {
   "cell_type": "markdown",
   "metadata": {},
   "source": [
    "> ### **Check for Understanding:**\n",
    "> * How well does the polynomial model fit our data compared to a linear model?\n",
    "> * What happend if the degree becomes higher (e.g., 20)?\n",
    "> * What happend if the degree becomes lower (e.g., 2)?\n",
    "> * What are the trade-offs of using a higher degree polynomial?\n",
    "> * How can we prevent overfitting in polynomial regression?"
   ]
  }
 ],
 "metadata": {
  "kernelspec": {
   "display_name": "mlops-app",
   "language": "python",
   "name": "python3"
  },
  "language_info": {
   "codemirror_mode": {
    "name": "ipython",
    "version": 3
   },
   "file_extension": ".py",
   "mimetype": "text/x-python",
   "name": "python",
   "nbconvert_exporter": "python",
   "pygments_lexer": "ipython3",
   "version": "3.8.19"
  }
 },
 "nbformat": 4,
 "nbformat_minor": 2
}
