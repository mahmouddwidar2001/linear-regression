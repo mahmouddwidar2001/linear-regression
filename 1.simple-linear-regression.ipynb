{
 "cells": [
  {
   "cell_type": "markdown",
   "metadata": {},
   "source": [
    "---\n",
    "# **Simple Linear Regression**\n",
    "---"
   ]
  },
  {
   "cell_type": "markdown",
   "id": "d8a309c4",
   "metadata": {},
   "source": [
    "\n",
    "Welcome to this beginner-friendly guide on Simple Linear Regression! In this notebook, we will explore the fundamental concepts of simple linear regression and implement it using Python. We will cover the following topics:\n",
    "\n",
    "1. **Conceptual Overview:** Understanding the basic principles of simple linear regression.\n",
    "2. **Implementation:** Building a simple linear regression model from scratch.\n",
    "3. **Evaluation:** Evaluating the performance of the model.\n",
    "\n",
    "By the end of this notebook, you will have a solid understanding of simple linear regression and be able to apply it to real-world problems."
   ]
  },
  {
   "cell_type": "markdown",
   "id": "86faeae1",
   "metadata": {},
   "source": [
    "#### **Conceptual Overview**"
   ]
  },
  {
   "cell_type": "markdown",
   "id": "42b22fbf",
   "metadata": {},
   "source": [
    "\n",
    "Linear Regression is a **supervised** and **regression** algorithm. Let's break down what that means:\n",
    "\n",
    "*   **Supervised:** This means we use labeled data to train the model. In other words, we have input features (e.g., years of experience) and corresponding output values (e.g., salary).\n",
    "*   **Regression:** This means we are trying to predict a numerical value, as opposed to a class or category. For example, predicting the price of a house or the salary of an employee.\n",
    "\n",
    "In simple linear regression, we aim to find the best-fitting line that describes the relationship between two variables: an independent variable (X) and a dependent variable (y). This line is defined by the equation:\n",
    "\n",
    "$$y = mx + b$$\n",
    "\n",
    "where:\n",
    "\n",
    "*   **y** is the dependent variable (the value we want to predict).\n",
    "*   **x** is the independent variable (the value we use to make the prediction).\n",
    "*   **m** is the slope of the line (the change in y for every unit change in x).\n",
    "*   **b** is the y-intercept (the value of y when x is 0).\n",
    "\n",
    "The goal of linear regression is to find the values of m and b that minimize the difference between the predicted values and the actual values. This difference is often measured using the **least squares** method, where we try to minimize the sum of the squared distances between the data points and the regression line.\n",
    "\n",
    "**Check for Understanding:**\n",
    "\n",
    "*   What is the difference between supervised and unsupervised learning?\n",
    "*   What is the difference between regression and classification?\n",
    "*   What do the slope and y-intercept represent in the equation of a line?"
   ]
  },
  {
   "cell_type": "markdown",
   "id": "ffe8bef4",
   "metadata": {},
   "source": [
    "---\n",
    "# **Setup**\n",
    "---\n",
    "In this section, we will implement simple linear regression using Python. We will use the following libraries:\n",
    "\n",
    "*   **NumPy:** For numerical computations.\n",
    "*   **Pandas:** For data manipulation and analysis.\n",
    "*   **Matplotlib and seaborn:** For data visualization.\n",
    "*   **Scikit-learn:** For building and evaluating the linear regression model.\n",
    "\n",
    "> Let's start by importing these libraries."
   ]
  },
  {
   "cell_type": "code",
   "execution_count": 33,
   "id": "9a3fec79",
   "metadata": {},
   "outputs": [],
   "source": [
    "# !pip install scikit-learn numpy pandas matplotlib"
   ]
  },
  {
   "cell_type": "code",
   "execution_count": 34,
   "id": "831541dc",
   "metadata": {},
   "outputs": [],
   "source": [
    "import numpy as np              # For numerical computations\n",
    "import pandas as pd             # For data manipulation and analysis\n",
    "import matplotlib.pyplot as plt # For data visualization\n",
    "\n",
    "from sklearn.model_selection import train_test_split        # For splitting the data into training and testing sets\n",
    "from sklearn.linear_model import LinearRegression           # For building the linear regression model\n",
    "from sklearn.metrics import r2_score                        # For evaluating the model"
   ]
  },
  {
   "cell_type": "markdown",
   "id": "82496553",
   "metadata": {},
   "source": [
    "With our imports complete, we now read in the data using Pandas.\n",
    "\n",
    "We will use the `Salary_Data.csv` dataset, which contains information about years of experience and corresponding salaries. Let's load the data and take a look at the first few rows."
   ]
  },
  {
   "cell_type": "markdown",
   "id": "cb485798",
   "metadata": {},
   "source": [
    "---\n",
    "# **Reading and Preparing the Data for Modeling**\n",
    "---"
   ]
  },
  {
   "cell_type": "markdown",
   "id": "15f6810e",
   "metadata": {},
   "source": [
    "## 1. Load Dataset to workspace"
   ]
  },
  {
   "cell_type": "code",
   "execution_count": 35,
   "id": "f277cc1b",
   "metadata": {},
   "outputs": [
    {
     "name": "stdout",
     "output_type": "stream",
     "text": [
      "   YearsExperience   Salary\n",
      "0              1.1  39343.0\n",
      "1              1.3  46205.0\n",
      "2              1.5  37731.0\n",
      "3              2.0  43525.0\n",
      "4              2.2  39891.0\n",
      "(30, 2)\n"
     ]
    }
   ],
   "source": [
    "dataset = pd.read_csv('Salary_Data.csv') # Reads the data from the CSV file\n",
    "\n",
    "# Displaying the first few rows of the dataset\n",
    "print(dataset.head())\n",
    "print(dataset.shape)"
   ]
  },
  {
   "cell_type": "markdown",
   "id": "a5d28216",
   "metadata": {},
   "source": [
    "> Now that we have loaded the data, let's separate the independent variable (X) and the dependent variable (y).\n",
    "> *   **X (Independent Variable):** Years of Experience\n",
    "> *   **y (Dependent Variable):** Salary"
   ]
  },
  {
   "cell_type": "markdown",
   "id": "7f4d098a",
   "metadata": {},
   "source": [
    "## 2. Separating the independent and dependent variables"
   ]
  },
  {
   "cell_type": "code",
   "execution_count": 36,
   "id": "31444a6a",
   "metadata": {},
   "outputs": [],
   "source": [
    "X = dataset.iloc[:, :-1].values         # Independent variable (Years of Experience)\n",
    "y = dataset.iloc[:, -1].values          # Dependent variable (Salary)"
   ]
  },
  {
   "cell_type": "markdown",
   "id": "94589ee7",
   "metadata": {},
   "source": [
    "> - Next, we need to split the data into training and testing sets. This will allow us to train our model on a portion of the data and then evaluate its performance on the remaining portion.\n",
    "> - We will use the `train_test_split` function from Scikit-learn to split the data. We will use 25% of the data for testing and 75% for training."
   ]
  },
  {
   "cell_type": "markdown",
   "id": "d2bdc115",
   "metadata": {},
   "source": [
    "## 3. Splitting the data into training and testing sets"
   ]
  },
  {
   "cell_type": "code",
   "execution_count": 37,
   "id": "2eaee140",
   "metadata": {},
   "outputs": [
    {
     "name": "stdout",
     "output_type": "stream",
     "text": [
      "Shape of the training Features (22, 1)\n",
      "Shape of the testing Features (8, 1)\n",
      "Shape of the training Labels (22,)\n",
      "Shape of the testing Labels (8,)\n"
     ]
    }
   ],
   "source": [
    "# test_size = 0.25 means that 25% of the data will be used for testing\n",
    "# random_state = 0 means that the data will be split in a consistent way\n",
    "# X_train and y_train will be the training sets\n",
    "# X_test and y_test will be the validation sets\n",
    "\n",
    "X_train, X_test, y_train, y_test = train_test_split(X, y, test_size = 0.25, random_state = 0)\n",
    "\n",
    "print(\"Shape of the training Features\", X_train.shape)\n",
    "print(\"Shape of the testing Features\", X_test.shape)\n",
    "print(\"Shape of the training Labels\", y_train.shape)\n",
    "print(\"Shape of the testing Labels\", y_test.shape)"
   ]
  },
  {
   "cell_type": "markdown",
   "id": "ec005035",
   "metadata": {},
   "source": [
    "> - Now that we have split the data into training and testing sets, we can build and train our linear regression model.\n",
    "> - We will use the `LinearRegression` class from Scikit-learn to build our model. Then, we will use the `fit` method to train the model on the training data."
   ]
  },
  {
   "cell_type": "markdown",
   "id": "171248ec",
   "metadata": {},
   "source": [
    "---\n",
    "# **Modeling**\n",
    "---"
   ]
  },
  {
   "cell_type": "markdown",
   "id": "64b59c41",
   "metadata": {},
   "source": [
    "## 1. Building the Model"
   ]
  },
  {
   "cell_type": "code",
   "execution_count": 38,
   "id": "82dbb60d",
   "metadata": {},
   "outputs": [
    {
     "data": {
      "text/html": [
       "<style>#sk-container-id-5 {color: black;}#sk-container-id-5 pre{padding: 0;}#sk-container-id-5 div.sk-toggleable {background-color: white;}#sk-container-id-5 label.sk-toggleable__label {cursor: pointer;display: block;width: 100%;margin-bottom: 0;padding: 0.3em;box-sizing: border-box;text-align: center;}#sk-container-id-5 label.sk-toggleable__label-arrow:before {content: \"▸\";float: left;margin-right: 0.25em;color: #696969;}#sk-container-id-5 label.sk-toggleable__label-arrow:hover:before {color: black;}#sk-container-id-5 div.sk-estimator:hover label.sk-toggleable__label-arrow:before {color: black;}#sk-container-id-5 div.sk-toggleable__content {max-height: 0;max-width: 0;overflow: hidden;text-align: left;background-color: #f0f8ff;}#sk-container-id-5 div.sk-toggleable__content pre {margin: 0.2em;color: black;border-radius: 0.25em;background-color: #f0f8ff;}#sk-container-id-5 input.sk-toggleable__control:checked~div.sk-toggleable__content {max-height: 200px;max-width: 100%;overflow: auto;}#sk-container-id-5 input.sk-toggleable__control:checked~label.sk-toggleable__label-arrow:before {content: \"▾\";}#sk-container-id-5 div.sk-estimator input.sk-toggleable__control:checked~label.sk-toggleable__label {background-color: #d4ebff;}#sk-container-id-5 div.sk-label input.sk-toggleable__control:checked~label.sk-toggleable__label {background-color: #d4ebff;}#sk-container-id-5 input.sk-hidden--visually {border: 0;clip: rect(1px 1px 1px 1px);clip: rect(1px, 1px, 1px, 1px);height: 1px;margin: -1px;overflow: hidden;padding: 0;position: absolute;width: 1px;}#sk-container-id-5 div.sk-estimator {font-family: monospace;background-color: #f0f8ff;border: 1px dotted black;border-radius: 0.25em;box-sizing: border-box;margin-bottom: 0.5em;}#sk-container-id-5 div.sk-estimator:hover {background-color: #d4ebff;}#sk-container-id-5 div.sk-parallel-item::after {content: \"\";width: 100%;border-bottom: 1px solid gray;flex-grow: 1;}#sk-container-id-5 div.sk-label:hover label.sk-toggleable__label {background-color: #d4ebff;}#sk-container-id-5 div.sk-serial::before {content: \"\";position: absolute;border-left: 1px solid gray;box-sizing: border-box;top: 0;bottom: 0;left: 50%;z-index: 0;}#sk-container-id-5 div.sk-serial {display: flex;flex-direction: column;align-items: center;background-color: white;padding-right: 0.2em;padding-left: 0.2em;position: relative;}#sk-container-id-5 div.sk-item {position: relative;z-index: 1;}#sk-container-id-5 div.sk-parallel {display: flex;align-items: stretch;justify-content: center;background-color: white;position: relative;}#sk-container-id-5 div.sk-item::before, #sk-container-id-5 div.sk-parallel-item::before {content: \"\";position: absolute;border-left: 1px solid gray;box-sizing: border-box;top: 0;bottom: 0;left: 50%;z-index: -1;}#sk-container-id-5 div.sk-parallel-item {display: flex;flex-direction: column;z-index: 1;position: relative;background-color: white;}#sk-container-id-5 div.sk-parallel-item:first-child::after {align-self: flex-end;width: 50%;}#sk-container-id-5 div.sk-parallel-item:last-child::after {align-self: flex-start;width: 50%;}#sk-container-id-5 div.sk-parallel-item:only-child::after {width: 0;}#sk-container-id-5 div.sk-dashed-wrapped {border: 1px dashed gray;margin: 0 0.4em 0.5em 0.4em;box-sizing: border-box;padding-bottom: 0.4em;background-color: white;}#sk-container-id-5 div.sk-label label {font-family: monospace;font-weight: bold;display: inline-block;line-height: 1.2em;}#sk-container-id-5 div.sk-label-container {text-align: center;}#sk-container-id-5 div.sk-container {/* jupyter's `normalize.less` sets `[hidden] { display: none; }` but bootstrap.min.css set `[hidden] { display: none !important; }` so we also need the `!important` here to be able to override the default hidden behavior on the sphinx rendered scikit-learn.org. See: https://github.com/scikit-learn/scikit-learn/issues/21755 */display: inline-block !important;position: relative;}#sk-container-id-5 div.sk-text-repr-fallback {display: none;}</style><div id=\"sk-container-id-5\" class=\"sk-top-container\"><div class=\"sk-text-repr-fallback\"><pre>LinearRegression()</pre><b>In a Jupyter environment, please rerun this cell to show the HTML representation or trust the notebook. <br />On GitHub, the HTML representation is unable to render, please try loading this page with nbviewer.org.</b></div><div class=\"sk-container\" hidden><div class=\"sk-item\"><div class=\"sk-estimator sk-toggleable\"><input class=\"sk-toggleable__control sk-hidden--visually\" id=\"sk-estimator-id-5\" type=\"checkbox\" checked><label for=\"sk-estimator-id-5\" class=\"sk-toggleable__label sk-toggleable__label-arrow\">LinearRegression</label><div class=\"sk-toggleable__content\"><pre>LinearRegression()</pre></div></div></div></div></div>"
      ],
      "text/plain": [
       "LinearRegression()"
      ]
     },
     "execution_count": 38,
     "metadata": {},
     "output_type": "execute_result"
    }
   ],
   "source": [
    "lr = LinearRegression() # Creates a linear regression object\n",
    "lr"
   ]
  },
  {
   "cell_type": "markdown",
   "id": "4d372ae0",
   "metadata": {},
   "source": [
    "## 2. Training the Model\n"
   ]
  },
  {
   "cell_type": "code",
   "execution_count": 39,
   "id": "b712507a",
   "metadata": {},
   "outputs": [
    {
     "data": {
      "text/html": [
       "<style>#sk-container-id-6 {color: black;}#sk-container-id-6 pre{padding: 0;}#sk-container-id-6 div.sk-toggleable {background-color: white;}#sk-container-id-6 label.sk-toggleable__label {cursor: pointer;display: block;width: 100%;margin-bottom: 0;padding: 0.3em;box-sizing: border-box;text-align: center;}#sk-container-id-6 label.sk-toggleable__label-arrow:before {content: \"▸\";float: left;margin-right: 0.25em;color: #696969;}#sk-container-id-6 label.sk-toggleable__label-arrow:hover:before {color: black;}#sk-container-id-6 div.sk-estimator:hover label.sk-toggleable__label-arrow:before {color: black;}#sk-container-id-6 div.sk-toggleable__content {max-height: 0;max-width: 0;overflow: hidden;text-align: left;background-color: #f0f8ff;}#sk-container-id-6 div.sk-toggleable__content pre {margin: 0.2em;color: black;border-radius: 0.25em;background-color: #f0f8ff;}#sk-container-id-6 input.sk-toggleable__control:checked~div.sk-toggleable__content {max-height: 200px;max-width: 100%;overflow: auto;}#sk-container-id-6 input.sk-toggleable__control:checked~label.sk-toggleable__label-arrow:before {content: \"▾\";}#sk-container-id-6 div.sk-estimator input.sk-toggleable__control:checked~label.sk-toggleable__label {background-color: #d4ebff;}#sk-container-id-6 div.sk-label input.sk-toggleable__control:checked~label.sk-toggleable__label {background-color: #d4ebff;}#sk-container-id-6 input.sk-hidden--visually {border: 0;clip: rect(1px 1px 1px 1px);clip: rect(1px, 1px, 1px, 1px);height: 1px;margin: -1px;overflow: hidden;padding: 0;position: absolute;width: 1px;}#sk-container-id-6 div.sk-estimator {font-family: monospace;background-color: #f0f8ff;border: 1px dotted black;border-radius: 0.25em;box-sizing: border-box;margin-bottom: 0.5em;}#sk-container-id-6 div.sk-estimator:hover {background-color: #d4ebff;}#sk-container-id-6 div.sk-parallel-item::after {content: \"\";width: 100%;border-bottom: 1px solid gray;flex-grow: 1;}#sk-container-id-6 div.sk-label:hover label.sk-toggleable__label {background-color: #d4ebff;}#sk-container-id-6 div.sk-serial::before {content: \"\";position: absolute;border-left: 1px solid gray;box-sizing: border-box;top: 0;bottom: 0;left: 50%;z-index: 0;}#sk-container-id-6 div.sk-serial {display: flex;flex-direction: column;align-items: center;background-color: white;padding-right: 0.2em;padding-left: 0.2em;position: relative;}#sk-container-id-6 div.sk-item {position: relative;z-index: 1;}#sk-container-id-6 div.sk-parallel {display: flex;align-items: stretch;justify-content: center;background-color: white;position: relative;}#sk-container-id-6 div.sk-item::before, #sk-container-id-6 div.sk-parallel-item::before {content: \"\";position: absolute;border-left: 1px solid gray;box-sizing: border-box;top: 0;bottom: 0;left: 50%;z-index: -1;}#sk-container-id-6 div.sk-parallel-item {display: flex;flex-direction: column;z-index: 1;position: relative;background-color: white;}#sk-container-id-6 div.sk-parallel-item:first-child::after {align-self: flex-end;width: 50%;}#sk-container-id-6 div.sk-parallel-item:last-child::after {align-self: flex-start;width: 50%;}#sk-container-id-6 div.sk-parallel-item:only-child::after {width: 0;}#sk-container-id-6 div.sk-dashed-wrapped {border: 1px dashed gray;margin: 0 0.4em 0.5em 0.4em;box-sizing: border-box;padding-bottom: 0.4em;background-color: white;}#sk-container-id-6 div.sk-label label {font-family: monospace;font-weight: bold;display: inline-block;line-height: 1.2em;}#sk-container-id-6 div.sk-label-container {text-align: center;}#sk-container-id-6 div.sk-container {/* jupyter's `normalize.less` sets `[hidden] { display: none; }` but bootstrap.min.css set `[hidden] { display: none !important; }` so we also need the `!important` here to be able to override the default hidden behavior on the sphinx rendered scikit-learn.org. See: https://github.com/scikit-learn/scikit-learn/issues/21755 */display: inline-block !important;position: relative;}#sk-container-id-6 div.sk-text-repr-fallback {display: none;}</style><div id=\"sk-container-id-6\" class=\"sk-top-container\"><div class=\"sk-text-repr-fallback\"><pre>LinearRegression()</pre><b>In a Jupyter environment, please rerun this cell to show the HTML representation or trust the notebook. <br />On GitHub, the HTML representation is unable to render, please try loading this page with nbviewer.org.</b></div><div class=\"sk-container\" hidden><div class=\"sk-item\"><div class=\"sk-estimator sk-toggleable\"><input class=\"sk-toggleable__control sk-hidden--visually\" id=\"sk-estimator-id-6\" type=\"checkbox\" checked><label for=\"sk-estimator-id-6\" class=\"sk-toggleable__label sk-toggleable__label-arrow\">LinearRegression</label><div class=\"sk-toggleable__content\"><pre>LinearRegression()</pre></div></div></div></div></div>"
      ],
      "text/plain": [
       "LinearRegression()"
      ]
     },
     "execution_count": 39,
     "metadata": {},
     "output_type": "execute_result"
    }
   ],
   "source": [
    "lr.fit(X_train, y_train) # Trains the model on the training data"
   ]
  },
  {
   "cell_type": "code",
   "execution_count": 40,
   "id": "9c0d72ab",
   "metadata": {},
   "outputs": [
    {
     "name": "stdout",
     "output_type": "stream",
     "text": [
      "Intercept (a0): 26986.691316737248\n",
      "Slope (a1)    :  [9379.71049195]\n"
     ]
    }
   ],
   "source": [
    "print(\"Intercept (a0):\", lr.intercept_) # Intercept of the model\n",
    "print(\"Slope (a1)    : \", lr.coef_ )# Coefficient of the independent variable"
   ]
  },
  {
   "cell_type": "code",
   "execution_count": 41,
   "id": "e6ff60e0",
   "metadata": {},
   "outputs": [
    {
     "data": {
      "text/plain": [
       "0.9395413526983522"
      ]
     },
     "execution_count": 41,
     "metadata": {},
     "output_type": "execute_result"
    }
   ],
   "source": [
    "lr.score(X_train, y_train) # R^2 score of the model on the training data"
   ]
  },
  {
   "cell_type": "markdown",
   "id": "0e819954",
   "metadata": {},
   "source": [
    "> - With our model trained, we can now make predictions on the test set.\n",
    "> - We will use the `predict` method to make predictions on the test data."
   ]
  },
  {
   "cell_type": "markdown",
   "id": "8280a0c9",
   "metadata": {},
   "source": [
    "## 3. Evaluating the Model on the testing (validation) set\n",
    "\n",
    "With our model built, we can now use it for generating predictions. We will use our test set so we can see how well it did."
   ]
  },
  {
   "cell_type": "code",
   "execution_count": 42,
   "id": "25b495b6",
   "metadata": {},
   "outputs": [
    {
     "data": {
      "text/plain": [
       "array([ 41056.25705466, 123597.70938378,  65443.50433372,  63567.56223533,\n",
       "       116093.94099022, 108590.17259667, 117031.91203942,  64505.53328452])"
      ]
     },
     "execution_count": 42,
     "metadata": {},
     "output_type": "execute_result"
    }
   ],
   "source": [
    "# Making predictions on the testing sets\n",
    "y_pred = lr.predict(X_test) \n",
    "y_pred"
   ]
  },
  {
   "cell_type": "code",
   "execution_count": 43,
   "id": "e10d40ed",
   "metadata": {},
   "outputs": [
    {
     "name": "stdout",
     "output_type": "stream",
     "text": [
      "R^2 score: 0.9779208335417602\n",
      "R^2 score: 98%\n"
     ]
    }
   ],
   "source": [
    "# Evaluating the model\n",
    "score = r2_score(y_test, y_pred) # Calculates the R^2 score\n",
    "# or Calculates the R^2 score by this way\n",
    "# score = regressor.score(X_test, y_test)\n",
    "\n",
    "print('R^2 score:', score) \n",
    "\n",
    "# Print out our score properly formatted as a percent.\n",
    "print(\"R^2 score:\", \"{:.0%}\".format(score))"
   ]
  },
  {
   "cell_type": "markdown",
   "id": "0b32fc3d",
   "metadata": {},
   "source": [
    "Finally, we will visualize the results and evaluate the model.\n",
    "\n",
    "We will use Matplotlib to create a scatter plot of the data and the regression line. We will also calculate the R^2 score to evaluate the performance of the model."
   ]
  },
  {
   "cell_type": "code",
   "execution_count": 44,
   "id": "d30f7fc1",
   "metadata": {},
   "outputs": [],
   "source": [
    "y_pred_train = lr.predict(X_train)"
   ]
  },
  {
   "cell_type": "code",
   "execution_count": 45,
   "id": "037de30c",
   "metadata": {},
   "outputs": [
    {
     "data": {
      "image/png": "[encoded data removed]",
      "text/plain": [
       "<Figure size 640x480 with 1 Axes>"
      ]
     },
     "metadata": {},
     "output_type": "display_data"
    }
   ],
   "source": [
    "# Visualize the results\n",
    "plt.scatter(X_train, y_train) # Plots the training data points\n",
    "plt.plot(X_train, y_pred_train, color = 'red') # Plots the regression line\n",
    "\n",
    "plt.title('Salary vs Experience (Training set)') \n",
    "plt.xlabel('Years of Experience') \n",
    "plt.ylabel('Salary') \n",
    "plt.show() \n"
   ]
  },
  {
   "cell_type": "markdown",
   "id": "3ae04ce7",
   "metadata": {},
   "source": [
    "> **Check for Understanding:**\n",
    "> *   What is the $R^2$ score and what does it tell us about the model?\n",
    "> *   How can we improve the performance of the model?\n",
    "> *   What are the limitations of simple linear regression?"
   ]
  },
  {
   "cell_type": "markdown",
   "id": "ce029575",
   "metadata": {},
   "source": []
  }
 ],
 "metadata": {
  "kernelspec": {
   "display_name": "mlops-app",
   "language": "python",
   "name": "python3"
  },
  "language_info": {
   "codemirror_mode": {
    "name": "ipython",
    "version": 3
   },
   "file_extension": ".py",
   "mimetype": "text/x-python",
   "name": "python",
   "nbconvert_exporter": "python",
   "pygments_lexer": "ipython3",
   "version": "3.8.19"
  }
 },
 "nbformat": 4,
 "nbformat_minor": 5
}
